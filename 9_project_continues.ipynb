{
 "cells": [
  {
   "cell_type": "markdown",
   "metadata": {},
   "source": [
    "# Cleaning the Data"
   ]
  },
  {
   "cell_type": "code",
   "execution_count": 46,
   "metadata": {},
   "outputs": [],
   "source": [
    "import pandas as pd\n",
    "\n",
    "good_run = pd.read_csv('MM10 Good Run.csv', parse_dates=['TIME_STAMP'])\n",
    "bad_run = pd.read_csv('MM10 Nozzle Leak.csv', parse_dates=['TIME_STAMP'])"
   ]
  },
  {
   "cell_type": "code",
   "execution_count": 47,
   "metadata": {},
   "outputs": [],
   "source": [
    "from sklearn.base import BaseEstimator, TransformerMixin\n",
    "\n",
    "class PivotTransformer(BaseEstimator, TransformerMixin):\n",
    "    def __init__(self): # no *args or **kargs\n",
    "        self  # nothing else to do\n",
    "    def fit(self, X, y=None):\n",
    "        return self  # nothing else to do\n",
    "    def transform(self, X):\n",
    "        needed_cols = X.filter(['TIME_STAMP', 'CAPAB_NAME', 'DATA_VALUE'], axis=1)\n",
    "        pivot_data = needed_cols.pivot(index='TIME_STAMP', columns='CAPAB_NAME', values='DATA_VALUE')\n",
    "        reset_data = pivot_data.reset_index()\n",
    "\n",
    "        clean_data = reset_data.drop(0, axis=0)\n",
    "        clean_data = clean_data.drop(clean_data.columns[1], axis=1)\n",
    "\n",
    "        unrelated_columns = \"Mold Close Position (Mold Protect)\", \"Mold Load Detect Monitor Mode\",\"Mold Load Detect Status\", \"Mold Open Limit Position\", \"Mold Protect Monitor Status (By Time)\", \"Mold Protect Monitor Time\"\n",
    "        unrelated_ix = [clean_data .columns.get_loc(c) for c in unrelated_columns]\n",
    "        clean_data  = clean_data.drop(clean_data.columns[unrelated_ix], axis =1)\n",
    "        return clean_data\n"
   ]
  },
  {
   "cell_type": "code",
   "execution_count": 48,
   "metadata": {},
   "outputs": [
    {
     "data": {
      "text/html": [
       "<div>\n",
       "<style scoped>\n",
       "    .dataframe tbody tr th:only-of-type {\n",
       "        vertical-align: middle;\n",
       "    }\n",
       "\n",
       "    .dataframe tbody tr th {\n",
       "        vertical-align: top;\n",
       "    }\n",
       "\n",
       "    .dataframe thead th {\n",
       "        text-align: right;\n",
       "    }\n",
       "</style>\n",
       "<table border=\"1\" class=\"dataframe\">\n",
       "  <thead>\n",
       "    <tr style=\"text-align: right;\">\n",
       "      <th>CAPAB_NAME</th>\n",
       "      <th>TIME_STAMP</th>\n",
       "      <th>Barrel Temp Zone 1</th>\n",
       "      <th>Barrel Temp Zone 2</th>\n",
       "      <th>Barrel Temp Zone 3</th>\n",
       "      <th>Barrel Temp Zone 4</th>\n",
       "      <th>Barrel Temp Zone 5</th>\n",
       "      <th>Clamp Tonnage After Hold</th>\n",
       "      <th>Cooling Time</th>\n",
       "      <th>Cycle Time</th>\n",
       "      <th>Dose Time</th>\n",
       "      <th>Ejector Ejection Position</th>\n",
       "      <th>Ejector Ejection Speed</th>\n",
       "      <th>Filling Peak Pressure</th>\n",
       "      <th>Filling Time</th>\n",
       "      <th>Injection Speed</th>\n",
       "      <th>Min Cushion Position</th>\n",
       "      <th>Pack Pressure</th>\n",
       "    </tr>\n",
       "  </thead>\n",
       "  <tbody>\n",
       "    <tr>\n",
       "      <th>1</th>\n",
       "      <td>2022-10-05 00:00:04</td>\n",
       "      <td>500.18</td>\n",
       "      <td>500.18</td>\n",
       "      <td>509.9</td>\n",
       "      <td>519.80</td>\n",
       "      <td>510.62</td>\n",
       "      <td>78.010727</td>\n",
       "      <td>6.5</td>\n",
       "      <td>22.928</td>\n",
       "      <td>5.360</td>\n",
       "      <td>1.9</td>\n",
       "      <td>25.0</td>\n",
       "      <td>10579.58244</td>\n",
       "      <td>1.716</td>\n",
       "      <td>1.5</td>\n",
       "      <td>0.206846</td>\n",
       "      <td>10404.49128</td>\n",
       "    </tr>\n",
       "    <tr>\n",
       "      <th>2</th>\n",
       "      <td>2022-10-05 00:00:24</td>\n",
       "      <td>500.00</td>\n",
       "      <td>500.00</td>\n",
       "      <td>509.9</td>\n",
       "      <td>519.98</td>\n",
       "      <td>510.26</td>\n",
       "      <td>77.954094</td>\n",
       "      <td>6.5</td>\n",
       "      <td>22.928</td>\n",
       "      <td>5.360</td>\n",
       "      <td>1.9</td>\n",
       "      <td>25.0</td>\n",
       "      <td>10579.58244</td>\n",
       "      <td>1.716</td>\n",
       "      <td>1.5</td>\n",
       "      <td>0.206846</td>\n",
       "      <td>10585.77663</td>\n",
       "    </tr>\n",
       "    <tr>\n",
       "      <th>3</th>\n",
       "      <td>2022-10-05 00:00:44</td>\n",
       "      <td>500.00</td>\n",
       "      <td>500.00</td>\n",
       "      <td>509.9</td>\n",
       "      <td>519.98</td>\n",
       "      <td>510.26</td>\n",
       "      <td>77.954094</td>\n",
       "      <td>6.5</td>\n",
       "      <td>22.928</td>\n",
       "      <td>5.360</td>\n",
       "      <td>1.9</td>\n",
       "      <td>25.0</td>\n",
       "      <td>10579.58244</td>\n",
       "      <td>1.716</td>\n",
       "      <td>1.5</td>\n",
       "      <td>0.206846</td>\n",
       "      <td>10585.77663</td>\n",
       "    </tr>\n",
       "    <tr>\n",
       "      <th>4</th>\n",
       "      <td>2022-10-05 00:01:04</td>\n",
       "      <td>500.00</td>\n",
       "      <td>500.00</td>\n",
       "      <td>509.9</td>\n",
       "      <td>519.98</td>\n",
       "      <td>510.26</td>\n",
       "      <td>77.954094</td>\n",
       "      <td>6.5</td>\n",
       "      <td>22.968</td>\n",
       "      <td>5.408</td>\n",
       "      <td>1.9</td>\n",
       "      <td>25.0</td>\n",
       "      <td>10495.91004</td>\n",
       "      <td>1.716</td>\n",
       "      <td>1.5</td>\n",
       "      <td>0.203000</td>\n",
       "      <td>10585.77663</td>\n",
       "    </tr>\n",
       "    <tr>\n",
       "      <th>5</th>\n",
       "      <td>2022-10-05 00:01:24</td>\n",
       "      <td>499.64</td>\n",
       "      <td>499.82</td>\n",
       "      <td>509.9</td>\n",
       "      <td>520.16</td>\n",
       "      <td>509.54</td>\n",
       "      <td>77.994555</td>\n",
       "      <td>6.5</td>\n",
       "      <td>22.968</td>\n",
       "      <td>5.408</td>\n",
       "      <td>1.9</td>\n",
       "      <td>25.0</td>\n",
       "      <td>10495.91004</td>\n",
       "      <td>1.716</td>\n",
       "      <td>1.5</td>\n",
       "      <td>0.203000</td>\n",
       "      <td>10406.04345</td>\n",
       "    </tr>\n",
       "  </tbody>\n",
       "</table>\n",
       "</div>"
      ],
      "text/plain": [
       "CAPAB_NAME          TIME_STAMP  Barrel Temp Zone 1  Barrel Temp Zone 2  \\\n",
       "1          2022-10-05 00:00:04              500.18              500.18   \n",
       "2          2022-10-05 00:00:24              500.00              500.00   \n",
       "3          2022-10-05 00:00:44              500.00              500.00   \n",
       "4          2022-10-05 00:01:04              500.00              500.00   \n",
       "5          2022-10-05 00:01:24              499.64              499.82   \n",
       "\n",
       "CAPAB_NAME  Barrel Temp Zone 3  Barrel Temp Zone 4  Barrel Temp Zone 5  \\\n",
       "1                        509.9              519.80              510.62   \n",
       "2                        509.9              519.98              510.26   \n",
       "3                        509.9              519.98              510.26   \n",
       "4                        509.9              519.98              510.26   \n",
       "5                        509.9              520.16              509.54   \n",
       "\n",
       "CAPAB_NAME  Clamp Tonnage After Hold  Cooling Time  Cycle Time  Dose Time  \\\n",
       "1                          78.010727           6.5      22.928      5.360   \n",
       "2                          77.954094           6.5      22.928      5.360   \n",
       "3                          77.954094           6.5      22.928      5.360   \n",
       "4                          77.954094           6.5      22.968      5.408   \n",
       "5                          77.994555           6.5      22.968      5.408   \n",
       "\n",
       "CAPAB_NAME  Ejector Ejection Position  Ejector Ejection Speed  \\\n",
       "1                                 1.9                    25.0   \n",
       "2                                 1.9                    25.0   \n",
       "3                                 1.9                    25.0   \n",
       "4                                 1.9                    25.0   \n",
       "5                                 1.9                    25.0   \n",
       "\n",
       "CAPAB_NAME  Filling Peak Pressure  Filling Time  Injection Speed  \\\n",
       "1                     10579.58244         1.716              1.5   \n",
       "2                     10579.58244         1.716              1.5   \n",
       "3                     10579.58244         1.716              1.5   \n",
       "4                     10495.91004         1.716              1.5   \n",
       "5                     10495.91004         1.716              1.5   \n",
       "\n",
       "CAPAB_NAME  Min Cushion Position  Pack Pressure  \n",
       "1                       0.206846    10404.49128  \n",
       "2                       0.206846    10585.77663  \n",
       "3                       0.206846    10585.77663  \n",
       "4                       0.203000    10585.77663  \n",
       "5                       0.203000    10406.04345  "
      ]
     },
     "execution_count": 48,
     "metadata": {},
     "output_type": "execute_result"
    }
   ],
   "source": [
    "pivoter = PivotTransformer()\n",
    "good_run = pivoter.transform(good_run)\n",
    "good_run.head()"
   ]
  },
  {
   "cell_type": "code",
   "execution_count": 49,
   "metadata": {},
   "outputs": [
    {
     "data": {
      "text/html": [
       "<div>\n",
       "<style scoped>\n",
       "    .dataframe tbody tr th:only-of-type {\n",
       "        vertical-align: middle;\n",
       "    }\n",
       "\n",
       "    .dataframe tbody tr th {\n",
       "        vertical-align: top;\n",
       "    }\n",
       "\n",
       "    .dataframe thead th {\n",
       "        text-align: right;\n",
       "    }\n",
       "</style>\n",
       "<table border=\"1\" class=\"dataframe\">\n",
       "  <thead>\n",
       "    <tr style=\"text-align: right;\">\n",
       "      <th>CAPAB_NAME</th>\n",
       "      <th>TIME_STAMP</th>\n",
       "      <th>Barrel Temp Zone 1</th>\n",
       "      <th>Barrel Temp Zone 2</th>\n",
       "      <th>Barrel Temp Zone 3</th>\n",
       "      <th>Barrel Temp Zone 4</th>\n",
       "      <th>Barrel Temp Zone 5</th>\n",
       "      <th>Clamp Tonnage After Hold</th>\n",
       "      <th>Cooling Time</th>\n",
       "      <th>Cycle Time</th>\n",
       "      <th>Dose Time</th>\n",
       "      <th>Ejector Ejection Position</th>\n",
       "      <th>Ejector Ejection Speed</th>\n",
       "      <th>Filling Peak Pressure</th>\n",
       "      <th>Filling Time</th>\n",
       "      <th>Injection Speed</th>\n",
       "      <th>Min Cushion Position</th>\n",
       "      <th>Pack Pressure</th>\n",
       "    </tr>\n",
       "  </thead>\n",
       "  <tbody>\n",
       "    <tr>\n",
       "      <th>1</th>\n",
       "      <td>2022-09-28 11:43:46</td>\n",
       "      <td>281.66</td>\n",
       "      <td>399.92</td>\n",
       "      <td>399.92</td>\n",
       "      <td>399.92</td>\n",
       "      <td>399.56</td>\n",
       "      <td>-0.088998</td>\n",
       "      <td>20.0</td>\n",
       "      <td>39.776</td>\n",
       "      <td>7.312</td>\n",
       "      <td>2.599996</td>\n",
       "      <td>15.0</td>\n",
       "      <td>1143.474392</td>\n",
       "      <td>0.761</td>\n",
       "      <td>1.2</td>\n",
       "      <td>0.0</td>\n",
       "      <td>7863.406449</td>\n",
       "    </tr>\n",
       "    <tr>\n",
       "      <th>2</th>\n",
       "      <td>2022-09-28 11:44:06</td>\n",
       "      <td>281.66</td>\n",
       "      <td>399.92</td>\n",
       "      <td>399.92</td>\n",
       "      <td>399.92</td>\n",
       "      <td>399.92</td>\n",
       "      <td>-0.088998</td>\n",
       "      <td>20.0</td>\n",
       "      <td>39.776</td>\n",
       "      <td>7.312</td>\n",
       "      <td>2.599996</td>\n",
       "      <td>15.0</td>\n",
       "      <td>1143.474392</td>\n",
       "      <td>0.761</td>\n",
       "      <td>1.2</td>\n",
       "      <td>0.0</td>\n",
       "      <td>7863.406449</td>\n",
       "    </tr>\n",
       "    <tr>\n",
       "      <th>3</th>\n",
       "      <td>2022-09-28 11:44:26</td>\n",
       "      <td>281.66</td>\n",
       "      <td>399.92</td>\n",
       "      <td>399.92</td>\n",
       "      <td>399.92</td>\n",
       "      <td>399.92</td>\n",
       "      <td>-0.088998</td>\n",
       "      <td>20.0</td>\n",
       "      <td>39.776</td>\n",
       "      <td>7.312</td>\n",
       "      <td>2.599996</td>\n",
       "      <td>15.0</td>\n",
       "      <td>1143.474392</td>\n",
       "      <td>0.761</td>\n",
       "      <td>1.2</td>\n",
       "      <td>0.0</td>\n",
       "      <td>7863.406449</td>\n",
       "    </tr>\n",
       "    <tr>\n",
       "      <th>4</th>\n",
       "      <td>2022-09-28 11:44:46</td>\n",
       "      <td>281.66</td>\n",
       "      <td>399.92</td>\n",
       "      <td>399.92</td>\n",
       "      <td>399.92</td>\n",
       "      <td>399.92</td>\n",
       "      <td>-0.088998</td>\n",
       "      <td>20.0</td>\n",
       "      <td>39.776</td>\n",
       "      <td>7.312</td>\n",
       "      <td>2.599996</td>\n",
       "      <td>15.0</td>\n",
       "      <td>1143.474392</td>\n",
       "      <td>0.761</td>\n",
       "      <td>1.2</td>\n",
       "      <td>0.0</td>\n",
       "      <td>7863.406449</td>\n",
       "    </tr>\n",
       "    <tr>\n",
       "      <th>5</th>\n",
       "      <td>2022-09-28 11:45:06</td>\n",
       "      <td>281.84</td>\n",
       "      <td>399.92</td>\n",
       "      <td>399.92</td>\n",
       "      <td>399.92</td>\n",
       "      <td>399.74</td>\n",
       "      <td>-0.088998</td>\n",
       "      <td>20.0</td>\n",
       "      <td>39.776</td>\n",
       "      <td>7.312</td>\n",
       "      <td>2.599996</td>\n",
       "      <td>15.0</td>\n",
       "      <td>1143.474392</td>\n",
       "      <td>0.761</td>\n",
       "      <td>1.2</td>\n",
       "      <td>0.0</td>\n",
       "      <td>7863.406449</td>\n",
       "    </tr>\n",
       "  </tbody>\n",
       "</table>\n",
       "</div>"
      ],
      "text/plain": [
       "CAPAB_NAME          TIME_STAMP  Barrel Temp Zone 1  Barrel Temp Zone 2  \\\n",
       "1          2022-09-28 11:43:46              281.66              399.92   \n",
       "2          2022-09-28 11:44:06              281.66              399.92   \n",
       "3          2022-09-28 11:44:26              281.66              399.92   \n",
       "4          2022-09-28 11:44:46              281.66              399.92   \n",
       "5          2022-09-28 11:45:06              281.84              399.92   \n",
       "\n",
       "CAPAB_NAME  Barrel Temp Zone 3  Barrel Temp Zone 4  Barrel Temp Zone 5  \\\n",
       "1                       399.92              399.92              399.56   \n",
       "2                       399.92              399.92              399.92   \n",
       "3                       399.92              399.92              399.92   \n",
       "4                       399.92              399.92              399.92   \n",
       "5                       399.92              399.92              399.74   \n",
       "\n",
       "CAPAB_NAME  Clamp Tonnage After Hold  Cooling Time  Cycle Time  Dose Time  \\\n",
       "1                          -0.088998          20.0      39.776      7.312   \n",
       "2                          -0.088998          20.0      39.776      7.312   \n",
       "3                          -0.088998          20.0      39.776      7.312   \n",
       "4                          -0.088998          20.0      39.776      7.312   \n",
       "5                          -0.088998          20.0      39.776      7.312   \n",
       "\n",
       "CAPAB_NAME  Ejector Ejection Position  Ejector Ejection Speed  \\\n",
       "1                            2.599996                    15.0   \n",
       "2                            2.599996                    15.0   \n",
       "3                            2.599996                    15.0   \n",
       "4                            2.599996                    15.0   \n",
       "5                            2.599996                    15.0   \n",
       "\n",
       "CAPAB_NAME  Filling Peak Pressure  Filling Time  Injection Speed  \\\n",
       "1                     1143.474392         0.761              1.2   \n",
       "2                     1143.474392         0.761              1.2   \n",
       "3                     1143.474392         0.761              1.2   \n",
       "4                     1143.474392         0.761              1.2   \n",
       "5                     1143.474392         0.761              1.2   \n",
       "\n",
       "CAPAB_NAME  Min Cushion Position  Pack Pressure  \n",
       "1                            0.0    7863.406449  \n",
       "2                            0.0    7863.406449  \n",
       "3                            0.0    7863.406449  \n",
       "4                            0.0    7863.406449  \n",
       "5                            0.0    7863.406449  "
      ]
     },
     "execution_count": 49,
     "metadata": {},
     "output_type": "execute_result"
    }
   ],
   "source": [
    "bad_run = pivoter.transform(bad_run)\n",
    "bad_run.head()"
   ]
  },
  {
   "cell_type": "code",
   "execution_count": 50,
   "metadata": {},
   "outputs": [
    {
     "data": {
      "text/plain": [
       "0    10547\n",
       "1     9226\n",
       "Name: Label, dtype: int64"
      ]
     },
     "execution_count": 50,
     "metadata": {},
     "output_type": "execute_result"
    }
   ],
   "source": [
    "good_run['Label'] = 0\n",
    "bad_run['Label'] = 1\n",
    "total_runs = pd.concat([good_run, bad_run])\n",
    "total_runs['Label'].value_counts()"
   ]
  },
  {
   "cell_type": "code",
   "execution_count": 51,
   "metadata": {},
   "outputs": [
    {
     "data": {
      "text/html": [
       "<div>\n",
       "<style scoped>\n",
       "    .dataframe tbody tr th:only-of-type {\n",
       "        vertical-align: middle;\n",
       "    }\n",
       "\n",
       "    .dataframe tbody tr th {\n",
       "        vertical-align: top;\n",
       "    }\n",
       "\n",
       "    .dataframe thead th {\n",
       "        text-align: right;\n",
       "    }\n",
       "</style>\n",
       "<table border=\"1\" class=\"dataframe\">\n",
       "  <thead>\n",
       "    <tr style=\"text-align: right;\">\n",
       "      <th>CAPAB_NAME</th>\n",
       "      <th>TIME_STAMP</th>\n",
       "      <th>Barrel Temp Zone 1</th>\n",
       "      <th>Barrel Temp Zone 2</th>\n",
       "      <th>Barrel Temp Zone 3</th>\n",
       "      <th>Barrel Temp Zone 4</th>\n",
       "      <th>Barrel Temp Zone 5</th>\n",
       "      <th>Clamp Tonnage After Hold</th>\n",
       "      <th>Cooling Time</th>\n",
       "      <th>Cycle Time</th>\n",
       "      <th>Dose Time</th>\n",
       "      <th>Ejector Ejection Position</th>\n",
       "      <th>Ejector Ejection Speed</th>\n",
       "      <th>Filling Peak Pressure</th>\n",
       "      <th>Filling Time</th>\n",
       "      <th>Injection Speed</th>\n",
       "      <th>Min Cushion Position</th>\n",
       "      <th>Pack Pressure</th>\n",
       "      <th>Label</th>\n",
       "    </tr>\n",
       "  </thead>\n",
       "  <tbody>\n",
       "    <tr>\n",
       "      <th>1</th>\n",
       "      <td>2022-10-05 00:00:04</td>\n",
       "      <td>500.18</td>\n",
       "      <td>500.18</td>\n",
       "      <td>509.9</td>\n",
       "      <td>519.80</td>\n",
       "      <td>510.62</td>\n",
       "      <td>78.010727</td>\n",
       "      <td>6.5</td>\n",
       "      <td>22.928</td>\n",
       "      <td>5.360</td>\n",
       "      <td>1.9</td>\n",
       "      <td>25.0</td>\n",
       "      <td>10579.58244</td>\n",
       "      <td>1.716</td>\n",
       "      <td>1.5</td>\n",
       "      <td>0.206846</td>\n",
       "      <td>10404.49128</td>\n",
       "      <td>0</td>\n",
       "    </tr>\n",
       "    <tr>\n",
       "      <th>2</th>\n",
       "      <td>2022-10-05 00:00:24</td>\n",
       "      <td>500.00</td>\n",
       "      <td>500.00</td>\n",
       "      <td>509.9</td>\n",
       "      <td>519.98</td>\n",
       "      <td>510.26</td>\n",
       "      <td>77.954094</td>\n",
       "      <td>6.5</td>\n",
       "      <td>22.928</td>\n",
       "      <td>5.360</td>\n",
       "      <td>1.9</td>\n",
       "      <td>25.0</td>\n",
       "      <td>10579.58244</td>\n",
       "      <td>1.716</td>\n",
       "      <td>1.5</td>\n",
       "      <td>0.206846</td>\n",
       "      <td>10585.77663</td>\n",
       "      <td>0</td>\n",
       "    </tr>\n",
       "    <tr>\n",
       "      <th>3</th>\n",
       "      <td>2022-10-05 00:00:44</td>\n",
       "      <td>500.00</td>\n",
       "      <td>500.00</td>\n",
       "      <td>509.9</td>\n",
       "      <td>519.98</td>\n",
       "      <td>510.26</td>\n",
       "      <td>77.954094</td>\n",
       "      <td>6.5</td>\n",
       "      <td>22.928</td>\n",
       "      <td>5.360</td>\n",
       "      <td>1.9</td>\n",
       "      <td>25.0</td>\n",
       "      <td>10579.58244</td>\n",
       "      <td>1.716</td>\n",
       "      <td>1.5</td>\n",
       "      <td>0.206846</td>\n",
       "      <td>10585.77663</td>\n",
       "      <td>0</td>\n",
       "    </tr>\n",
       "    <tr>\n",
       "      <th>4</th>\n",
       "      <td>2022-10-05 00:01:04</td>\n",
       "      <td>500.00</td>\n",
       "      <td>500.00</td>\n",
       "      <td>509.9</td>\n",
       "      <td>519.98</td>\n",
       "      <td>510.26</td>\n",
       "      <td>77.954094</td>\n",
       "      <td>6.5</td>\n",
       "      <td>22.968</td>\n",
       "      <td>5.408</td>\n",
       "      <td>1.9</td>\n",
       "      <td>25.0</td>\n",
       "      <td>10495.91004</td>\n",
       "      <td>1.716</td>\n",
       "      <td>1.5</td>\n",
       "      <td>0.203000</td>\n",
       "      <td>10585.77663</td>\n",
       "      <td>0</td>\n",
       "    </tr>\n",
       "    <tr>\n",
       "      <th>5</th>\n",
       "      <td>2022-10-05 00:01:24</td>\n",
       "      <td>499.64</td>\n",
       "      <td>499.82</td>\n",
       "      <td>509.9</td>\n",
       "      <td>520.16</td>\n",
       "      <td>509.54</td>\n",
       "      <td>77.994555</td>\n",
       "      <td>6.5</td>\n",
       "      <td>22.968</td>\n",
       "      <td>5.408</td>\n",
       "      <td>1.9</td>\n",
       "      <td>25.0</td>\n",
       "      <td>10495.91004</td>\n",
       "      <td>1.716</td>\n",
       "      <td>1.5</td>\n",
       "      <td>0.203000</td>\n",
       "      <td>10406.04345</td>\n",
       "      <td>0</td>\n",
       "    </tr>\n",
       "  </tbody>\n",
       "</table>\n",
       "</div>"
      ],
      "text/plain": [
       "CAPAB_NAME          TIME_STAMP  Barrel Temp Zone 1  Barrel Temp Zone 2  \\\n",
       "1          2022-10-05 00:00:04              500.18              500.18   \n",
       "2          2022-10-05 00:00:24              500.00              500.00   \n",
       "3          2022-10-05 00:00:44              500.00              500.00   \n",
       "4          2022-10-05 00:01:04              500.00              500.00   \n",
       "5          2022-10-05 00:01:24              499.64              499.82   \n",
       "\n",
       "CAPAB_NAME  Barrel Temp Zone 3  Barrel Temp Zone 4  Barrel Temp Zone 5  \\\n",
       "1                        509.9              519.80              510.62   \n",
       "2                        509.9              519.98              510.26   \n",
       "3                        509.9              519.98              510.26   \n",
       "4                        509.9              519.98              510.26   \n",
       "5                        509.9              520.16              509.54   \n",
       "\n",
       "CAPAB_NAME  Clamp Tonnage After Hold  Cooling Time  Cycle Time  Dose Time  \\\n",
       "1                          78.010727           6.5      22.928      5.360   \n",
       "2                          77.954094           6.5      22.928      5.360   \n",
       "3                          77.954094           6.5      22.928      5.360   \n",
       "4                          77.954094           6.5      22.968      5.408   \n",
       "5                          77.994555           6.5      22.968      5.408   \n",
       "\n",
       "CAPAB_NAME  Ejector Ejection Position  Ejector Ejection Speed  \\\n",
       "1                                 1.9                    25.0   \n",
       "2                                 1.9                    25.0   \n",
       "3                                 1.9                    25.0   \n",
       "4                                 1.9                    25.0   \n",
       "5                                 1.9                    25.0   \n",
       "\n",
       "CAPAB_NAME  Filling Peak Pressure  Filling Time  Injection Speed  \\\n",
       "1                     10579.58244         1.716              1.5   \n",
       "2                     10579.58244         1.716              1.5   \n",
       "3                     10579.58244         1.716              1.5   \n",
       "4                     10495.91004         1.716              1.5   \n",
       "5                     10495.91004         1.716              1.5   \n",
       "\n",
       "CAPAB_NAME  Min Cushion Position  Pack Pressure  Label  \n",
       "1                       0.206846    10404.49128      0  \n",
       "2                       0.206846    10585.77663      0  \n",
       "3                       0.206846    10585.77663      0  \n",
       "4                       0.203000    10585.77663      0  \n",
       "5                       0.203000    10406.04345      0  "
      ]
     },
     "execution_count": 51,
     "metadata": {},
     "output_type": "execute_result"
    }
   ],
   "source": [
    "total_runs.head()"
   ]
  },
  {
   "cell_type": "markdown",
   "metadata": {},
   "source": [
    "# Creating Test Set"
   ]
  },
  {
   "cell_type": "code",
   "execution_count": 52,
   "metadata": {},
   "outputs": [],
   "source": [
    "from sklearn.model_selection import train_test_split\n",
    "\n",
    "train_set, test_set = train_test_split(total_runs, test_size=0.2, random_state=42)"
   ]
  },
  {
   "cell_type": "markdown",
   "metadata": {},
   "source": [
    "## Correlations"
   ]
  },
  {
   "cell_type": "code",
   "execution_count": 53,
   "metadata": {},
   "outputs": [
    {
     "data": {
      "text/plain": [
       "CAPAB_NAME\n",
       "Label                        1.000000\n",
       "Dose Time                    0.294164\n",
       "Ejector Ejection Position    0.113154\n",
       "Cooling Time                 0.106077\n",
       "Filling Peak Pressure        0.031543\n",
       "Cycle Time                   0.015031\n",
       "Barrel Temp Zone 4          -0.092812\n",
       "Barrel Temp Zone 3          -0.116979\n",
       "Barrel Temp Zone 2          -0.160872\n",
       "Clamp Tonnage After Hold    -0.162150\n",
       "Barrel Temp Zone 5          -0.176247\n",
       "Ejector Ejection Speed      -0.193484\n",
       "Injection Speed             -0.195173\n",
       "Barrel Temp Zone 1          -0.203753\n",
       "Pack Pressure               -0.307054\n",
       "Filling Time                -0.379614\n",
       "Min Cushion Position        -0.417243\n",
       "Name: Label, dtype: float64"
      ]
     },
     "execution_count": 53,
     "metadata": {},
     "output_type": "execute_result"
    }
   ],
   "source": [
    "corr_matrix = train_set.corr()\n",
    "corr_matrix[\"Label\"].sort_values(ascending=False)"
   ]
  },
  {
   "cell_type": "code",
   "execution_count": 54,
   "metadata": {},
   "outputs": [
    {
     "data": {
      "text/plain": [
       "array([[<AxesSubplot:xlabel='Label', ylabel='Label'>,\n",
       "        <AxesSubplot:xlabel='Pack Pressure', ylabel='Label'>,\n",
       "        <AxesSubplot:xlabel='Filling Time', ylabel='Label'>,\n",
       "        <AxesSubplot:xlabel='Min Cushion Position', ylabel='Label'>],\n",
       "       [<AxesSubplot:xlabel='Label', ylabel='Pack Pressure'>,\n",
       "        <AxesSubplot:xlabel='Pack Pressure', ylabel='Pack Pressure'>,\n",
       "        <AxesSubplot:xlabel='Filling Time', ylabel='Pack Pressure'>,\n",
       "        <AxesSubplot:xlabel='Min Cushion Position', ylabel='Pack Pressure'>],\n",
       "       [<AxesSubplot:xlabel='Label', ylabel='Filling Time'>,\n",
       "        <AxesSubplot:xlabel='Pack Pressure', ylabel='Filling Time'>,\n",
       "        <AxesSubplot:xlabel='Filling Time', ylabel='Filling Time'>,\n",
       "        <AxesSubplot:xlabel='Min Cushion Position', ylabel='Filling Time'>],\n",
       "       [<AxesSubplot:xlabel='Label', ylabel='Min Cushion Position'>,\n",
       "        <AxesSubplot:xlabel='Pack Pressure', ylabel='Min Cushion Position'>,\n",
       "        <AxesSubplot:xlabel='Filling Time', ylabel='Min Cushion Position'>,\n",
       "        <AxesSubplot:xlabel='Min Cushion Position', ylabel='Min Cushion Position'>]],\n",
       "      dtype=object)"
      ]
     },
     "execution_count": 54,
     "metadata": {},
     "output_type": "execute_result"
    },
    {
     "data": {
      "image/png": "[encoded data removed]",
      "text/plain": [
       "<Figure size 1152x864 with 16 Axes>"
      ]
     },
     "metadata": {
      "needs_background": "light"
     },
     "output_type": "display_data"
    }
   ],
   "source": [
    "from pandas.plotting import scatter_matrix\n",
    "attributes = ['Label','Pack Pressure', 'Filling Time', 'Min Cushion Position']\n",
    "scatter_matrix(total_runs[attributes], figsize=(16, 12))"
   ]
  },
  {
   "cell_type": "markdown",
   "metadata": {},
   "source": [
    "# Classification Models"
   ]
  },
  {
   "cell_type": "markdown",
   "metadata": {},
   "source": [
    "## Stochastic Gradient Descent (SGD) Classifier"
   ]
  },
  {
   "cell_type": "code",
   "execution_count": 55,
   "metadata": {},
   "outputs": [
    {
     "data": {
      "text/html": [
       "<style>#sk-container-id-2 {color: black;background-color: white;}#sk-container-id-2 pre{padding: 0;}#sk-container-id-2 div.sk-toggleable {background-color: white;}#sk-container-id-2 label.sk-toggleable__label {cursor: pointer;display: block;width: 100%;margin-bottom: 0;padding: 0.3em;box-sizing: border-box;text-align: center;}#sk-container-id-2 label.sk-toggleable__label-arrow:before {content: \"▸\";float: left;margin-right: 0.25em;color: #696969;}#sk-container-id-2 label.sk-toggleable__label-arrow:hover:before {color: black;}#sk-container-id-2 div.sk-estimator:hover label.sk-toggleable__label-arrow:before {color: black;}#sk-container-id-2 div.sk-toggleable__content {max-height: 0;max-width: 0;overflow: hidden;text-align: left;background-color: #f0f8ff;}#sk-container-id-2 div.sk-toggleable__content pre {margin: 0.2em;color: black;border-radius: 0.25em;background-color: #f0f8ff;}#sk-container-id-2 input.sk-toggleable__control:checked~div.sk-toggleable__content {max-height: 200px;max-width: 100%;overflow: auto;}#sk-container-id-2 input.sk-toggleable__control:checked~label.sk-toggleable__label-arrow:before {content: \"▾\";}#sk-container-id-2 div.sk-estimator input.sk-toggleable__control:checked~label.sk-toggleable__label {background-color: #d4ebff;}#sk-container-id-2 div.sk-label input.sk-toggleable__control:checked~label.sk-toggleable__label {background-color: #d4ebff;}#sk-container-id-2 input.sk-hidden--visually {border: 0;clip: rect(1px 1px 1px 1px);clip: rect(1px, 1px, 1px, 1px);height: 1px;margin: -1px;overflow: hidden;padding: 0;position: absolute;width: 1px;}#sk-container-id-2 div.sk-estimator {font-family: monospace;background-color: #f0f8ff;border: 1px dotted black;border-radius: 0.25em;box-sizing: border-box;margin-bottom: 0.5em;}#sk-container-id-2 div.sk-estimator:hover {background-color: #d4ebff;}#sk-container-id-2 div.sk-parallel-item::after {content: \"\";width: 100%;border-bottom: 1px solid gray;flex-grow: 1;}#sk-container-id-2 div.sk-label:hover label.sk-toggleable__label {background-color: #d4ebff;}#sk-container-id-2 div.sk-serial::before {content: \"\";position: absolute;border-left: 1px solid gray;box-sizing: border-box;top: 0;bottom: 0;left: 50%;z-index: 0;}#sk-container-id-2 div.sk-serial {display: flex;flex-direction: column;align-items: center;background-color: white;padding-right: 0.2em;padding-left: 0.2em;position: relative;}#sk-container-id-2 div.sk-item {position: relative;z-index: 1;}#sk-container-id-2 div.sk-parallel {display: flex;align-items: stretch;justify-content: center;background-color: white;position: relative;}#sk-container-id-2 div.sk-item::before, #sk-container-id-2 div.sk-parallel-item::before {content: \"\";position: absolute;border-left: 1px solid gray;box-sizing: border-box;top: 0;bottom: 0;left: 50%;z-index: -1;}#sk-container-id-2 div.sk-parallel-item {display: flex;flex-direction: column;z-index: 1;position: relative;background-color: white;}#sk-container-id-2 div.sk-parallel-item:first-child::after {align-self: flex-end;width: 50%;}#sk-container-id-2 div.sk-parallel-item:last-child::after {align-self: flex-start;width: 50%;}#sk-container-id-2 div.sk-parallel-item:only-child::after {width: 0;}#sk-container-id-2 div.sk-dashed-wrapped {border: 1px dashed gray;margin: 0 0.4em 0.5em 0.4em;box-sizing: border-box;padding-bottom: 0.4em;background-color: white;}#sk-container-id-2 div.sk-label label {font-family: monospace;font-weight: bold;display: inline-block;line-height: 1.2em;}#sk-container-id-2 div.sk-label-container {text-align: center;}#sk-container-id-2 div.sk-container {/* jupyter's `normalize.less` sets `[hidden] { display: none; }` but bootstrap.min.css set `[hidden] { display: none !important; }` so we also need the `!important` here to be able to override the default hidden behavior on the sphinx rendered scikit-learn.org. See: https://github.com/scikit-learn/scikit-learn/issues/21755 */display: inline-block !important;position: relative;}#sk-container-id-2 div.sk-text-repr-fallback {display: none;}</style><div id=\"sk-container-id-2\" class=\"sk-top-container\"><div class=\"sk-text-repr-fallback\"><pre>SGDClassifier(random_state=42)</pre><b>In a Jupyter environment, please rerun this cell to show the HTML representation or trust the notebook. <br />On GitHub, the HTML representation is unable to render, please try loading this page with nbviewer.org.</b></div><div class=\"sk-container\" hidden><div class=\"sk-item\"><div class=\"sk-estimator sk-toggleable\"><input class=\"sk-toggleable__control sk-hidden--visually\" id=\"sk-estimator-id-2\" type=\"checkbox\" checked><label for=\"sk-estimator-id-2\" class=\"sk-toggleable__label sk-toggleable__label-arrow\">SGDClassifier</label><div class=\"sk-toggleable__content\"><pre>SGDClassifier(random_state=42)</pre></div></div></div></div></div>"
      ],
      "text/plain": [
       "SGDClassifier(random_state=42)"
      ]
     },
     "execution_count": 55,
     "metadata": {},
     "output_type": "execute_result"
    }
   ],
   "source": [
    "from sklearn.linear_model import SGDClassifier\n",
    "\n",
    "train_set_label = train_set['Label']\n",
    "train_set = train_set.drop(['TIME_STAMP', 'Label'], axis=1)\n",
    "\n",
    "sgd_clf = SGDClassifier(max_iter=1000, tol=1e-3, random_state=42)\n",
    "sgd_clf.fit(train_set, train_set_label)"
   ]
  },
  {
   "cell_type": "markdown",
   "metadata": {},
   "source": [
    "### Confusion Matrix"
   ]
  },
  {
   "cell_type": "code",
   "execution_count": 56,
   "metadata": {},
   "outputs": [],
   "source": [
    "from sklearn.model_selection import cross_val_predict\n",
    "\n",
    "train_pred = cross_val_predict(sgd_clf, train_set, train_set_label, cv=3)"
   ]
  },
  {
   "cell_type": "code",
   "execution_count": 57,
   "metadata": {},
   "outputs": [
    {
     "data": {
      "text/plain": [
       "array([[5628, 2814],\n",
       "       [4314, 3062]], dtype=int64)"
      ]
     },
     "execution_count": 57,
     "metadata": {},
     "output_type": "execute_result"
    }
   ],
   "source": [
    "from sklearn.metrics import confusion_matrix\n",
    "\n",
    "confusion_matrix(train_set_label, train_pred)"
   ]
  },
  {
   "cell_type": "markdown",
   "metadata": {},
   "source": [
    "### Precision & Recall"
   ]
  },
  {
   "cell_type": "code",
   "execution_count": 58,
   "metadata": {},
   "outputs": [
    {
     "data": {
      "text/plain": [
       "0.5211027910142955"
      ]
     },
     "execution_count": 58,
     "metadata": {},
     "output_type": "execute_result"
    }
   ],
   "source": [
    "from sklearn.metrics import precision_score, recall_score\n",
    "\n",
    "precision_score(train_set_label, train_pred)"
   ]
  },
  {
   "cell_type": "code",
   "execution_count": 59,
   "metadata": {},
   "outputs": [
    {
     "data": {
      "text/plain": [
       "0.4151301518438178"
      ]
     },
     "execution_count": 59,
     "metadata": {},
     "output_type": "execute_result"
    }
   ],
   "source": [
    "recall_score(train_set_label, train_pred)"
   ]
  },
  {
   "cell_type": "markdown",
   "metadata": {},
   "source": [
    "### Precision/Recall Trade-off"
   ]
  },
  {
   "cell_type": "code",
   "execution_count": 60,
   "metadata": {},
   "outputs": [],
   "source": [
    "scores = cross_val_predict(sgd_clf, train_set, train_set_label, cv=3, method=\"decision_function\")"
   ]
  },
  {
   "cell_type": "code",
   "execution_count": 61,
   "metadata": {},
   "outputs": [],
   "source": [
    "from sklearn.metrics import precision_recall_curve\n",
    "\n",
    "precisions, recalls, thresholds = precision_recall_curve(train_set_label, scores)"
   ]
  },
  {
   "cell_type": "code",
   "execution_count": 62,
   "metadata": {},
   "outputs": [
    {
     "data": {
      "image/png": "[encoded data removed]",
      "text/plain": [
       "<Figure size 576x288 with 1 Axes>"
      ]
     },
     "metadata": {
      "needs_background": "light"
     },
     "output_type": "display_data"
    }
   ],
   "source": [
    "import numpy as np\n",
    "import matplotlib.pyplot as plt\n",
    "\n",
    "def plot_precision_recall_vs_threshold(precisions, recalls, thresholds):\n",
    "    plt.plot(thresholds, precisions[:-1], \"b--\", label=\"Precision\", linewidth=2)\n",
    "    plt.plot(thresholds, recalls[:-1], \"g-\", label=\"Recall\", linewidth=2)\n",
    "    plt.legend(loc=\"center right\", fontsize=16) # Not shown in the book\n",
    "    plt.xlabel(\"Threshold\", fontsize=16)        # Not shown\n",
    "    plt.grid(True)                              # Not shown\n",
    "    plt.axis([-50000, 50000, 0, 1])             # Not shown\n",
    "\n",
    "\n",
    "\n",
    "recall_90_precision = recalls[np.argmax(precisions >= 0.90)]\n",
    "threshold_90_precision = thresholds[np.argmax(precisions >= 0.90)]\n",
    "\n",
    "\n",
    "plt.figure(figsize=(8, 4))                                                                  # Not shown\n",
    "plot_precision_recall_vs_threshold(precisions, recalls, thresholds)\n",
    "plt.plot([threshold_90_precision, threshold_90_precision], [0., 0.9], \"r:\")                 # Not shown\n",
    "plt.plot([-50000, threshold_90_precision], [0.9, 0.9], \"r:\")                                # Not shown\n",
    "plt.plot([-50000, threshold_90_precision], [recall_90_precision, recall_90_precision], \"r:\")# Not shown\n",
    "plt.plot([threshold_90_precision], [0.9], \"ro\")                                             # Not shown\n",
    "plt.plot([threshold_90_precision], [recall_90_precision], \"ro\")                             # Not shown\n",
    "plt.show()"
   ]
  },
  {
   "cell_type": "code",
   "execution_count": 63,
   "metadata": {},
   "outputs": [
    {
     "data": {
      "image/png": "[encoded data removed]",
      "text/plain": [
       "<Figure size 576x432 with 1 Axes>"
      ]
     },
     "metadata": {
      "needs_background": "light"
     },
     "output_type": "display_data"
    }
   ],
   "source": [
    "def plot_precision_vs_recall(precisions, recalls):\n",
    "    plt.plot(recalls, precisions, \"b-\", linewidth=2)\n",
    "    plt.xlabel(\"Recall\", fontsize=16)\n",
    "    plt.ylabel(\"Precision\", fontsize=16)\n",
    "    plt.axis([0, 1, 0, 1])\n",
    "    plt.grid(True)\n",
    "\n",
    "plt.figure(figsize=(8, 6))\n",
    "plot_precision_vs_recall(precisions, recalls)\n",
    "plt.plot([recall_90_precision, recall_90_precision], [0., 0.9], \"r:\")\n",
    "plt.plot([0.0, recall_90_precision], [0.9, 0.9], \"r:\")\n",
    "plt.plot([recall_90_precision], [0.9], \"ro\")\n",
    "plt.show()"
   ]
  },
  {
   "cell_type": "markdown",
   "metadata": {},
   "source": [
    "### The ROC Curve"
   ]
  },
  {
   "cell_type": "code",
   "execution_count": 64,
   "metadata": {},
   "outputs": [],
   "source": [
    "from sklearn.metrics import roc_curve\n",
    "\n",
    "fpr, tpr, thresholds = roc_curve(train_set_label, scores)"
   ]
  },
  {
   "cell_type": "code",
   "execution_count": 65,
   "metadata": {},
   "outputs": [
    {
     "data": {
      "image/png": "[encoded data removed]",
      "text/plain": [
       "<Figure size 864x576 with 1 Axes>"
      ]
     },
     "metadata": {
      "needs_background": "light"
     },
     "output_type": "display_data"
    }
   ],
   "source": [
    "def plot_roc_curve(fpr, tpr, label=None):\n",
    "    plt.plot(fpr, tpr, linewidth=2, label=label)\n",
    "    plt.plot([0, 1], [0, 1], 'k--') # dashed diagonal\n",
    "    plt.axis([0, 1, 0, 1])                                    # Not shown in the book\n",
    "    plt.xlabel('False Positive Rate (Fall-Out)', fontsize=16) # Not shown\n",
    "    plt.ylabel('True Positive Rate (Recall)', fontsize=16)    # Not shown\n",
    "    plt.grid(True)                                            # Not shown\n",
    "\n",
    "plt.figure(figsize=(12, 8))                                    # Not shown\n",
    "plot_roc_curve(fpr, tpr)\n",
    "fpr_90 = fpr[np.argmax(tpr >= recall_90_precision)]           # Not shown\n",
    "plt.plot([fpr_90, fpr_90], [0., recall_90_precision], \"r:\")   # Not shown\n",
    "plt.plot([0.0, fpr_90], [recall_90_precision, recall_90_precision], \"r:\")  # Not shown\n",
    "plt.plot([fpr_90], [recall_90_precision], \"ro\")               # Not shown\n",
    "plt.show()"
   ]
  },
  {
   "cell_type": "code",
   "execution_count": 66,
   "metadata": {},
   "outputs": [
    {
     "data": {
      "text/plain": [
       "0.6988253649632223"
      ]
     },
     "execution_count": 66,
     "metadata": {},
     "output_type": "execute_result"
    }
   ],
   "source": [
    "from sklearn.metrics import roc_auc_score\n",
    "\n",
    "roc_auc_score(train_set_label, scores)"
   ]
  },
  {
   "cell_type": "markdown",
   "metadata": {},
   "source": [
    "## Random Forest Classifier"
   ]
  },
  {
   "cell_type": "code",
   "execution_count": 67,
   "metadata": {},
   "outputs": [],
   "source": [
    "\n",
    "from sklearn.ensemble import RandomForestClassifier\n",
    "forest_clf = RandomForestClassifier(n_estimators=100, random_state=42)\n",
    "y_probas_forest = cross_val_predict(forest_clf, train_set, train_set_label, cv=3, method=\"predict_proba\")"
   ]
  },
  {
   "cell_type": "code",
   "execution_count": 68,
   "metadata": {},
   "outputs": [],
   "source": [
    "scores_forest = y_probas_forest[:, 1] # score = proba of positive class\n",
    "fpr_forest, tpr_forest, thresholds_forest = roc_curve(train_set_label, scores_forest)"
   ]
  },
  {
   "cell_type": "markdown",
   "metadata": {},
   "source": [
    "### ROC Curve Comparision"
   ]
  },
  {
   "cell_type": "code",
   "execution_count": 69,
   "metadata": {},
   "outputs": [
    {
     "data": {
      "image/png": "[encoded data removed]",
      "text/plain": [
       "<Figure size 864x576 with 1 Axes>"
      ]
     },
     "metadata": {
      "needs_background": "light"
     },
     "output_type": "display_data"
    }
   ],
   "source": [
    "recall_for_forest = tpr_forest[np.argmax(fpr_forest >= fpr_90)]\n",
    "\n",
    "plt.figure(figsize=(12, 8))\n",
    "plt.plot(fpr, tpr, \"b:\", linewidth=2, label=\"SGD\")\n",
    "plot_roc_curve(fpr_forest, tpr_forest, \"Random Forest\")\n",
    "plt.plot([fpr_90, fpr_90], [0., recall_90_precision], \"r:\")\n",
    "plt.plot([0.0, fpr_90], [recall_90_precision, recall_90_precision], \"r:\")\n",
    "plt.plot([fpr_90], [recall_90_precision], \"ro\")\n",
    "plt.plot([fpr_90, fpr_90], [0., recall_for_forest], \"r:\")\n",
    "plt.plot([fpr_90], [recall_for_forest], \"ro\")\n",
    "plt.grid(True)\n",
    "plt.legend(loc=\"lower right\", fontsize=16)\n",
    "plt.show()"
   ]
  },
  {
   "cell_type": "code",
   "execution_count": 70,
   "metadata": {},
   "outputs": [
    {
     "data": {
      "text/plain": [
       "0.9999999036426174"
      ]
     },
     "execution_count": 70,
     "metadata": {},
     "output_type": "execute_result"
    }
   ],
   "source": [
    "roc_auc_score(train_set_label, scores_forest)"
   ]
  },
  {
   "cell_type": "markdown",
   "metadata": {},
   "source": [
    "### Precision & Recall"
   ]
  },
  {
   "cell_type": "code",
   "execution_count": 71,
   "metadata": {},
   "outputs": [
    {
     "data": {
      "text/plain": [
       "1.0"
      ]
     },
     "execution_count": 71,
     "metadata": {},
     "output_type": "execute_result"
    }
   ],
   "source": [
    "train_pred_forest = cross_val_predict(forest_clf, train_set, train_set_label, cv=3)\n",
    "precision_score(train_set_label, train_pred_forest)"
   ]
  },
  {
   "cell_type": "code",
   "execution_count": 72,
   "metadata": {},
   "outputs": [
    {
     "data": {
      "text/plain": [
       "0.9995932754880694"
      ]
     },
     "execution_count": 72,
     "metadata": {},
     "output_type": "execute_result"
    }
   ],
   "source": [
    "recall_score(train_set_label, train_pred_forest)"
   ]
  }
 ],
 "metadata": {
  "kernelspec": {
   "display_name": "Python 3.9.13 64-bit (microsoft store)",
   "language": "python",
   "name": "python3"
  },
  "language_info": {
   "codemirror_mode": {
    "name": "ipython",
    "version": 3
   },
   "file_extension": ".py",
   "mimetype": "text/x-python",
   "name": "python",
   "nbconvert_exporter": "python",
   "pygments_lexer": "ipython3",
   "version": "3.9.13"
  },
  "orig_nbformat": 4,
  "vscode": {
   "interpreter": {
    "hash": "78edd57a436c147a665f1594934f09e8fccda4dbd0aa135f2fa2fea5d3ce09ee"
   }
  }
 },
 "nbformat": 4,
 "nbformat_minor": 2
}
